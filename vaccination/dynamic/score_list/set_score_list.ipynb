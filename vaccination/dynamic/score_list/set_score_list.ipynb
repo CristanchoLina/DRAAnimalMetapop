{
 "cells": [
  {
   "cell_type": "code",
   "execution_count": 2,
   "metadata": {},
   "outputs": [],
   "source": [
    "import networkx as nx\n",
    "import numpy as np\n",
    "import pandas as pd\n",
    "import random\n",
    "from datetime import datetime\n",
    "import numba\n",
    "from numba import jit"
   ]
  },
  {
   "cell_type": "code",
   "execution_count": 3,
   "metadata": {},
   "outputs": [],
   "source": [
    "random.seed(1)  #random.seed(10) "
   ]
  },
  {
   "cell_type": "code",
   "execution_count": 4,
   "metadata": {},
   "outputs": [],
   "source": [
    "np.set_printoptions(suppress=True)"
   ]
  },
  {
   "cell_type": "code",
   "execution_count": 5,
   "metadata": {},
   "outputs": [],
   "source": [
    "import itertools\n",
    "\n",
    "somelists = [['opti_infherds', 'potentiel', 'recovered', 'susceptible_proportion', 'in_degree',\n",
    "   'out_degree', 'in_rate', 'out_rate', 'herds_sizes', 'pagerank',\n",
    "   'betweeness', 'eigenvector', 'closeness', 'random_scoring',\n",
    "   'delta_recovered', 'delta_infected', 'delta_newrec', 'delta_newinf',\n",
    "    'achats_periode','achats_cumulees', 'infectedindicator',\n",
    "    'ventes_cumulees', 'ventes_periode', \n",
    "    'infected_proportion','LRIE',  'weighted_LRIE', 'opti_infherds_modified', 'opti_infherds_plusone',\n",
    "    'opti_infherds_seuil'\n",
    "]     ,\n",
    "]                                                            \n",
    "                                                       \n",
    "\n",
    "design = []\n",
    "for element in itertools.product(*somelists):\n",
    "    design.append(element)\n",
    "    \n",
    "design = np.array(design)"
   ]
  },
  {
   "cell_type": "code",
   "execution_count": 9,
   "metadata": {},
   "outputs": [
    {
     "data": {
      "text/plain": [
       "29"
      ]
     },
     "execution_count": 9,
     "metadata": {},
     "output_type": "execute_result"
    }
   ],
   "source": [
    "len(somelists[0])"
   ]
  },
  {
   "cell_type": "code",
   "execution_count": 10,
   "metadata": {},
   "outputs": [],
   "source": [
    "num_nodes = len(design)"
   ]
  },
  {
   "cell_type": "code",
   "execution_count": 11,
   "metadata": {},
   "outputs": [],
   "source": [
    "np.savetxt('combinations.txt',design,delimiter=\" \", fmt=\"%s\")"
   ]
  },
  {
   "cell_type": "code",
   "execution_count": 12,
   "metadata": {},
   "outputs": [],
   "source": [
    "a = np.split(design, num_nodes)"
   ]
  },
  {
   "cell_type": "code",
   "execution_count": 13,
   "metadata": {},
   "outputs": [],
   "source": [
    "for i in range(num_nodes):\n",
    "    np.savetxt('combinations_' + str(i+1) + '.txt', a[i],  delimiter=\" \", fmt=\"%s\")"
   ]
  }
 ],
 "metadata": {
  "kernelspec": {
   "display_name": "Python 3",
   "language": "python",
   "name": "python3"
  },
  "language_info": {
   "codemirror_mode": {
    "name": "ipython",
    "version": 3
   },
   "file_extension": ".py",
   "mimetype": "text/x-python",
   "name": "python",
   "nbconvert_exporter": "python",
   "pygments_lexer": "ipython3",
   "version": "3.7.6"
  }
 },
 "nbformat": 4,
 "nbformat_minor": 2
}
