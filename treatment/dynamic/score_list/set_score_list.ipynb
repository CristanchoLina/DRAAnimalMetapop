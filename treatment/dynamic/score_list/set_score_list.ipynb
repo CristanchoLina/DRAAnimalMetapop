{
 "cells": [
  {
   "cell_type": "code",
   "execution_count": 13,
   "metadata": {},
   "outputs": [],
   "source": [
    "import networkx as nx\n",
    "import numpy as np\n",
    "import pandas as pd\n",
    "import random\n",
    "from datetime import datetime\n",
    "import numba\n",
    "from numba import jit"
   ]
  },
  {
   "cell_type": "code",
   "execution_count": 14,
   "metadata": {},
   "outputs": [],
   "source": [
    "random.seed(1)  #random.seed(10) "
   ]
  },
  {
   "cell_type": "code",
   "execution_count": 15,
   "metadata": {},
   "outputs": [],
   "source": [
    "np.set_printoptions(suppress=True)"
   ]
  },
  {
   "cell_type": "code",
   "execution_count": 16,
   "metadata": {},
   "outputs": [],
   "source": [
    "import itertools\n",
    "\n",
    "somelists = [['opti_infherds', 'potentiel', 'recovered', 'susceptible_proportion', 'in_degree',\n",
    "   'out_degree', 'in_rate', 'out_rate', 'herds_sizes', 'pagerank',\n",
    "   'betweeness', 'eigenvector', 'closeness', 'random_scoring',\n",
    "   'delta_recovered', 'delta_infected', 'delta_newrec', 'delta_newinf',\n",
    "    'achats_periode','achats_cumulees', 'infectedindicator',\n",
    "    'ventes_cumulees', 'ventes_periode', \n",
    "    'infected_proportion','LRIE',  'weighted_LRIE',\n",
    "    'oneinfectedindicator', 'infected_animals',\n",
    "    'opti_infherds_seuil'\n",
    "]     ,\n",
    "]                                                            \n",
    "                                                       \n",
    "\n",
    "design = []\n",
    "for element in itertools.product(*somelists):\n",
    "    design.append(element)\n",
    "    \n",
    "design = np.array(design)"
   ]
  },
  {
   "cell_type": "code",
   "execution_count": 17,
   "metadata": {},
   "outputs": [
    {
     "data": {
      "text/plain": [
       "29"
      ]
     },
     "execution_count": 17,
     "metadata": {},
     "output_type": "execute_result"
    }
   ],
   "source": [
    "len(somelists[0])"
   ]
  },
  {
   "cell_type": "code",
   "execution_count": 18,
   "metadata": {},
   "outputs": [],
   "source": [
    "num_nodes = len(design)"
   ]
  },
  {
   "cell_type": "code",
   "execution_count": 19,
   "metadata": {},
   "outputs": [],
   "source": [
    "np.savetxt('combinations.txt',design,delimiter=\" \", fmt=\"%s\")"
   ]
  },
  {
   "cell_type": "code",
   "execution_count": 20,
   "metadata": {},
   "outputs": [],
   "source": [
    "a = np.split(design, num_nodes)"
   ]
  },
  {
   "cell_type": "code",
   "execution_count": 21,
   "metadata": {},
   "outputs": [],
   "source": [
    "for i in range(num_nodes):\n",
    "    np.savetxt('combinations_' + str(i+1) + '.txt', a[i],  delimiter=\" \", fmt=\"%s\")"
   ]
  },
  {
   "cell_type": "code",
   "execution_count": null,
   "metadata": {},
   "outputs": [],
   "source": []
  }
 ],
 "metadata": {
  "kernelspec": {
   "display_name": "Python 3",
   "language": "python",
   "name": "python3"
  },
  "language_info": {
   "codemirror_mode": {
    "name": "ipython",
    "version": 3
   },
   "file_extension": ".py",
   "mimetype": "text/x-python",
   "name": "python",
   "nbconvert_exporter": "python",
   "pygments_lexer": "ipython3",
   "version": "3.7.6"
  },
  "toc": {
   "base_numbering": 1,
   "nav_menu": {},
   "number_sections": true,
   "sideBar": true,
   "skip_h1_title": false,
   "title_cell": "Table of Contents",
   "title_sidebar": "Contents",
   "toc_cell": false,
   "toc_position": {},
   "toc_section_display": true,
   "toc_window_display": false
  }
 },
 "nbformat": 4,
 "nbformat_minor": 2
}
